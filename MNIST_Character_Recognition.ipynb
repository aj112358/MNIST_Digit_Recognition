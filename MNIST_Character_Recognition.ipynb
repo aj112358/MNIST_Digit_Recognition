{
 "cells": [
  {
   "cell_type": "markdown",
   "metadata": {},
   "source": [
    "# MNIST Project"
   ]
  },
  {
   "cell_type": "markdown",
   "metadata": {},
   "source": [
    "- Make a decorator that tells you how much time it takes for a cell/model to run/fit\n",
    "- Make a function to make plotting things easy\n",
    "- Make a function to save your ML models"
   ]
  },
  {
   "cell_type": "markdown",
   "metadata": {},
   "source": [
    "## Import Python Libraries"
   ]
  },
  {
   "cell_type": "markdown",
   "metadata": {},
   "source": [
    "**Importing standard libraries**"
   ]
  },
  {
   "cell_type": "code",
   "execution_count": 1,
   "metadata": {},
   "outputs": [],
   "source": [
    "import numpy as np\n",
    "np.random.seed(76)\n",
    "import pandas as pd\n",
    "import matplotlib as mpl\n",
    "import matplotlib.pyplot as plt\n",
    "%matplotlib inline\n",
    "import seaborn as sns\n",
    "\n",
    "from time import time\n",
    "import os"
   ]
  },
  {
   "cell_type": "markdown",
   "metadata": {},
   "source": [
    "**Importing SKL ML stuff**"
   ]
  },
  {
   "cell_type": "code",
   "execution_count": 2,
   "metadata": {},
   "outputs": [],
   "source": [
    "from sklearn.neighbors import KNeighborsClassifier\n",
    "from sklearn.metrics import accuracy_score, confusion_matrix\n",
    "from sklearn.model_selection import GridSearchCV"
   ]
  },
  {
   "cell_type": "markdown",
   "metadata": {},
   "source": [
    "**Other Functions**"
   ]
  },
  {
   "cell_type": "code",
   "execution_count": 3,
   "metadata": {},
   "outputs": [],
   "source": [
    "def performance(func):\n",
    "    def wrapper(*args, **kwargs):\n",
    "        t1 = time()\n",
    "        result = func(*args, **kwargs)\n",
    "        t2 = time()\n",
    "        print(f\"Time taken: {t2-t1} seconds\")\n",
    "        return result\n",
    "    \n",
    "    return wrapper"
   ]
  },
  {
   "cell_type": "code",
   "execution_count": 20,
   "metadata": {},
   "outputs": [],
   "source": [
    "@performance\n",
    "def long_time(x):\n",
    "    for _ in range(x):\n",
    "        _*5"
   ]
  },
  {
   "cell_type": "code",
   "execution_count": 64,
   "metadata": {},
   "outputs": [
    {
     "name": "stdout",
     "output_type": "stream",
     "text": [
      "Time taken: 0.001994609832763672 seconds\n"
     ]
    }
   ],
   "source": [
    "long_time(10000)"
   ]
  },
  {
   "cell_type": "code",
   "execution_count": 4,
   "metadata": {},
   "outputs": [],
   "source": [
    "LOCAL_FOLDER_PATH = \"02_images\" # Create this directory to store ALL downloaded data sets\n",
    "PROJECT_ROOT_DIR = \".\"\n",
    "os.makedirs(LOCAL_FOLDER_PATH, exist_ok=True)\n",
    "\n",
    "def save_figure(figure_name, tight_layout=True, fig_extension=\"png\", resolution=300):\n",
    "    image_path = os.path.join(LOCAL_FOLDER_PATH, figure_name + \".\" + fig_extension)\n",
    "    print(\"Saving figure\", figure_name)\n",
    "    if tight_layout:\n",
    "        plt.tight_layout()\n",
    "    plt.savefig(image_path, format=fig_extension, dpi=resolution) "
   ]
  },
  {
   "cell_type": "code",
   "execution_count": 71,
   "metadata": {},
   "outputs": [],
   "source": [
    "# Code for saving a model (YOU SHOULD MAKE A SEPARATE FUNCTION JUST FOR SAVING MODELS!!!!!)\n",
    "# Will save as a pickle file\n",
    "\n",
    "import joblib\n",
    "\n",
    "# joblib.dump(linear_regression_model, \"my_lin_reg_model.pkl\")\n",
    "# joblib.dump(decision_tree_model, \"my_decision_tree_model.pkl\")\n",
    "# joblib.dump(random_forest_model, \"my_forest_model.pkl\")\n",
    "\n",
    "# To load a saved model\n",
    "# loaded_model = joblib.load(\"<model name>\")"
   ]
  },
  {
   "cell_type": "code",
   "execution_count": 73,
   "metadata": {},
   "outputs": [],
   "source": [
    "def plot_digit(data):\n",
    "    image = data.reshape(28, 28)\n",
    "    plt.imshow(image, cmap = mpl.cm.binary,\n",
    "               interpolation=\"nearest\")\n",
    "    plt.axis(\"off\")"
   ]
  },
  {
   "cell_type": "code",
   "execution_count": 74,
   "metadata": {},
   "outputs": [],
   "source": [
    "from sklearn.metrics import mean_squared_error\n",
    "from sklearn.model_selection import train_test_split\n",
    "\n",
    "def plot_learning_curves(model, X, y):\n",
    "    \n",
    "    X_train, X_valid, y_train, y_valid = train_test_split(X, y, test_size = 0.2)\n",
    "    train_errors, validation_errors = [], []\n",
    "    \n",
    "    for m in range(1, len(X_train)):\n",
    "        model.fit(X_train[:m], y_train[:m])\n",
    "        \n",
    "        y_train_predictions = model.predict(X_train[:m])\n",
    "        y_valid_predictions = model.predict(X_valid)\n",
    "        \n",
    "        train_errors.append(mean_squared_error(y_train[:m], y_train_predictions))\n",
    "        validation_errors.append(mean_squared_error(y_valid, y_valid_predictions))\n",
    "    \n",
    "    plt.plot(np.sqrt(train_errors), \"r-+\", linewidth=2, label=\"train\")\n",
    "    plt.plot(np.sqrt(validation_errors), \"b-\", linewidth=3, label=\"validation\")    "
   ]
  },
  {
   "cell_type": "code",
   "execution_count": 75,
   "metadata": {},
   "outputs": [
    {
     "ename": "NameError",
     "evalue": "name 'sgd_model' is not defined",
     "output_type": "error",
     "traceback": [
      "\u001b[1;31m---------------------------------------------------------------------------\u001b[0m",
      "\u001b[1;31mNameError\u001b[0m                                 Traceback (most recent call last)",
      "\u001b[1;32m<ipython-input-75-c6d42ca1b850>\u001b[0m in \u001b[0;36m<module>\u001b[1;34m\u001b[0m\n\u001b[0;32m      9\u001b[0m \u001b[1;33m\u001b[0m\u001b[0m\n\u001b[0;32m     10\u001b[0m \u001b[1;32mfor\u001b[0m \u001b[0mepoch\u001b[0m \u001b[1;32min\u001b[0m \u001b[0mrange\u001b[0m\u001b[1;33m(\u001b[0m\u001b[0mnum_epochs\u001b[0m\u001b[1;33m)\u001b[0m\u001b[1;33m:\u001b[0m\u001b[1;33m\u001b[0m\u001b[1;33m\u001b[0m\u001b[0m\n\u001b[1;32m---> 11\u001b[1;33m     \u001b[0msgd_model\u001b[0m\u001b[1;33m.\u001b[0m\u001b[0mfit\u001b[0m\u001b[1;33m(\u001b[0m\u001b[0mX_train_poly_scaled\u001b[0m\u001b[1;33m,\u001b[0m \u001b[0my_train\u001b[0m\u001b[1;33m)\u001b[0m\u001b[1;33m\u001b[0m\u001b[1;33m\u001b[0m\u001b[0m\n\u001b[0m\u001b[0;32m     12\u001b[0m \u001b[1;33m\u001b[0m\u001b[0m\n\u001b[0;32m     13\u001b[0m     \u001b[0my_train_predict\u001b[0m \u001b[1;33m=\u001b[0m \u001b[0msgd_model\u001b[0m\u001b[1;33m.\u001b[0m\u001b[0mpredict\u001b[0m\u001b[1;33m(\u001b[0m\u001b[0mX_train_poly_scaled\u001b[0m\u001b[1;33m)\u001b[0m\u001b[1;33m\u001b[0m\u001b[1;33m\u001b[0m\u001b[0m\n",
      "\u001b[1;31mNameError\u001b[0m: name 'sgd_model' is not defined"
     ]
    }
   ],
   "source": [
    "# Manual code to implement early stopping\n",
    "\n",
    "minimum_valid_error = float(\"inf\")\n",
    "best_epoch = None\n",
    "best_model = None\n",
    "\n",
    "num_epochs = 500\n",
    "train_errors, val_errors = [], []\n",
    "\n",
    "for epoch in range(num_epochs):\n",
    "    sgd_model.fit(X_train_poly_scaled, y_train)\n",
    "    \n",
    "    y_train_predict = sgd_model.predict(X_train_poly_scaled)\n",
    "    y_valid_predict = sgd_model.predict(X_valid_poly_scaled)\n",
    "    \n",
    "    valid_error = mean_squared_error(y_val, y_valid_predict)\n",
    "    train_error = mean_squared_error(y_train, y_train_predict)\n",
    "    \n",
    "    train_errors.append(train_error)\n",
    "    val_errors.append(valid_error)\n",
    "        \n",
    "    if valid_error < minimum_valid_error:\n",
    "        minimum_valid_error = valid_error\n",
    "        best_epoch = epoch\n",
    "        best_model = clone(estimator=sgd_model)"
   ]
  },
  {
   "cell_type": "code",
   "execution_count": 76,
   "metadata": {},
   "outputs": [
    {
     "ename": "TypeError",
     "evalue": "list indices must be integers or slices, not NoneType",
     "output_type": "error",
     "traceback": [
      "\u001b[1;31m---------------------------------------------------------------------------\u001b[0m",
      "\u001b[1;31mTypeError\u001b[0m                                 Traceback (most recent call last)",
      "\u001b[1;32m<ipython-input-76-97e0028d653e>\u001b[0m in \u001b[0;36m<module>\u001b[1;34m\u001b[0m\n\u001b[0;32m      1\u001b[0m \u001b[1;31m#best_epoch = np.argmin(val_errors)\u001b[0m\u001b[1;33m\u001b[0m\u001b[1;33m\u001b[0m\u001b[1;33m\u001b[0m\u001b[0m\n\u001b[1;32m----> 2\u001b[1;33m \u001b[0mbest_val_rmse\u001b[0m \u001b[1;33m=\u001b[0m \u001b[0mnp\u001b[0m\u001b[1;33m.\u001b[0m\u001b[0msqrt\u001b[0m\u001b[1;33m(\u001b[0m\u001b[0mval_errors\u001b[0m\u001b[1;33m[\u001b[0m\u001b[0mbest_epoch\u001b[0m\u001b[1;33m]\u001b[0m\u001b[1;33m)\u001b[0m\u001b[1;33m\u001b[0m\u001b[1;33m\u001b[0m\u001b[0m\n\u001b[0m\u001b[0;32m      3\u001b[0m \u001b[1;33m\u001b[0m\u001b[0m\n\u001b[0;32m      4\u001b[0m plt.annotate('Best model',\n\u001b[0;32m      5\u001b[0m              \u001b[0mxy\u001b[0m\u001b[1;33m=\u001b[0m\u001b[1;33m(\u001b[0m\u001b[0mbest_epoch\u001b[0m\u001b[1;33m,\u001b[0m \u001b[0mbest_val_rmse\u001b[0m\u001b[1;33m)\u001b[0m\u001b[1;33m,\u001b[0m\u001b[1;33m\u001b[0m\u001b[1;33m\u001b[0m\u001b[0m\n",
      "\u001b[1;31mTypeError\u001b[0m: list indices must be integers or slices, not NoneType"
     ]
    }
   ],
   "source": [
    "#best_epoch = np.argmin(val_errors)\n",
    "best_val_rmse = np.sqrt(val_errors[best_epoch])\n",
    "\n",
    "plt.annotate('Best model',\n",
    "             xy=(best_epoch, best_val_rmse),\n",
    "             xytext=(best_epoch, best_val_rmse + 1),\n",
    "             ha=\"center\",\n",
    "             arrowprops=dict(facecolor='black', shrink=0.05),\n",
    "             fontsize=16,\n",
    "            )\n",
    "\n",
    "best_val_rmse -= 0.03  # just to make the graph look better\n",
    "\n",
    "plt.plot([0, num_epochs], [best_val_rmse, best_val_rmse], \"k:\", linewidth=2)\n",
    "\n",
    "plt.plot(np.sqrt(val_errors), \"b-\", linewidth=3, label=\"Validation set\")\n",
    "plt.plot(np.sqrt(train_errors), \"r--\", linewidth=2, label=\"Training set\")\n",
    "\n",
    "plt.legend(loc=\"upper right\", fontsize=14)\n",
    "plt.xlabel(\"Epoch\", fontsize=14)\n",
    "plt.ylabel(\"RMSE\", fontsize=14)"
   ]
  },
  {
   "cell_type": "code",
   "execution_count": null,
   "metadata": {},
   "outputs": [],
   "source": [
    "# to save images\n",
    "\n",
    "#PROJECT_ROOT_DIR = r\"C:\\Users\\AJ\\JupyterNotebooks\\ML_Notes_JNs\"\n",
    "#CHAPTER_ID = r\"Chapter 6\"\n",
    "#IMAGES_PATH = os.path.join(PROJECT_ROOT_DIR, CHAPTER_ID, \"images\")\n",
    "#os.makedirs(IMAGES_PATH, exist_ok=True)"
   ]
  },
  {
   "cell_type": "code",
   "execution_count": 77,
   "metadata": {},
   "outputs": [
    {
     "ename": "NameError",
     "evalue": "name 'tree_classifier' is not defined",
     "output_type": "error",
     "traceback": [
      "\u001b[1;31m---------------------------------------------------------------------------\u001b[0m",
      "\u001b[1;31mNameError\u001b[0m                                 Traceback (most recent call last)",
      "\u001b[1;32m<ipython-input-77-4d5d34e2a837>\u001b[0m in \u001b[0;36m<module>\u001b[1;34m\u001b[0m\n\u001b[0;32m      1\u001b[0m \u001b[1;32mfrom\u001b[0m \u001b[0msklearn\u001b[0m\u001b[1;33m.\u001b[0m\u001b[0mtree\u001b[0m \u001b[1;32mimport\u001b[0m \u001b[0mexport_graphviz\u001b[0m\u001b[1;33m\u001b[0m\u001b[1;33m\u001b[0m\u001b[0m\n\u001b[0;32m      2\u001b[0m \u001b[1;33m\u001b[0m\u001b[0m\n\u001b[1;32m----> 3\u001b[1;33m export_graphviz(decision_tree = tree_classifier,\n\u001b[0m\u001b[0;32m      4\u001b[0m                 \u001b[0mout_file\u001b[0m \u001b[1;33m=\u001b[0m \u001b[0mos\u001b[0m\u001b[1;33m.\u001b[0m\u001b[0mpath\u001b[0m\u001b[1;33m.\u001b[0m\u001b[0mjoin\u001b[0m\u001b[1;33m(\u001b[0m\u001b[0mIMAGES_PATH\u001b[0m\u001b[1;33m,\u001b[0m \u001b[1;34m\"iris_tree.dot\"\u001b[0m\u001b[1;33m)\u001b[0m\u001b[1;33m,\u001b[0m\u001b[1;33m\u001b[0m\u001b[1;33m\u001b[0m\u001b[0m\n\u001b[0;32m      5\u001b[0m                 \u001b[0mfeature_names\u001b[0m \u001b[1;33m=\u001b[0m \u001b[0miris\u001b[0m\u001b[1;33m.\u001b[0m\u001b[0mfeature_names\u001b[0m\u001b[1;33m[\u001b[0m\u001b[1;36m2\u001b[0m\u001b[1;33m:\u001b[0m\u001b[1;33m]\u001b[0m\u001b[1;33m,\u001b[0m\u001b[1;33m\u001b[0m\u001b[1;33m\u001b[0m\u001b[0m\n",
      "\u001b[1;31mNameError\u001b[0m: name 'tree_classifier' is not defined"
     ]
    }
   ],
   "source": [
    "from sklearn.tree import export_graphviz\n",
    "\n",
    "export_graphviz(decision_tree = tree_classifier,\n",
    "                out_file = os.path.join(IMAGES_PATH, \"iris_tree.dot\"),\n",
    "                feature_names = iris.feature_names[2:],\n",
    "                class_names = iris.target_names,\n",
    "                rounded = True,\n",
    "                filled = True)"
   ]
  },
  {
   "cell_type": "code",
   "execution_count": 78,
   "metadata": {},
   "outputs": [
    {
     "ename": "NameError",
     "evalue": "name 'IMAGES_PATH' is not defined",
     "output_type": "error",
     "traceback": [
      "\u001b[1;31m---------------------------------------------------------------------------\u001b[0m",
      "\u001b[1;31mNameError\u001b[0m                                 Traceback (most recent call last)",
      "\u001b[1;32m<ipython-input-78-0aa4b36c03aa>\u001b[0m in \u001b[0;36m<module>\u001b[1;34m\u001b[0m\n\u001b[0;32m      1\u001b[0m \u001b[1;32mfrom\u001b[0m \u001b[0mgraphviz\u001b[0m \u001b[1;32mimport\u001b[0m \u001b[0mSource\u001b[0m\u001b[1;33m\u001b[0m\u001b[1;33m\u001b[0m\u001b[0m\n\u001b[0;32m      2\u001b[0m \u001b[1;33m\u001b[0m\u001b[0m\n\u001b[1;32m----> 3\u001b[1;33m \u001b[0mSource\u001b[0m\u001b[1;33m.\u001b[0m\u001b[0mfrom_file\u001b[0m\u001b[1;33m(\u001b[0m\u001b[0mos\u001b[0m\u001b[1;33m.\u001b[0m\u001b[0mpath\u001b[0m\u001b[1;33m.\u001b[0m\u001b[0mjoin\u001b[0m\u001b[1;33m(\u001b[0m\u001b[0mIMAGES_PATH\u001b[0m\u001b[1;33m,\u001b[0m \u001b[1;34m\"iris_tree.dot\"\u001b[0m\u001b[1;33m)\u001b[0m\u001b[1;33m)\u001b[0m\u001b[1;33m\u001b[0m\u001b[1;33m\u001b[0m\u001b[0m\n\u001b[0m",
      "\u001b[1;31mNameError\u001b[0m: name 'IMAGES_PATH' is not defined"
     ]
    }
   ],
   "source": [
    "from graphviz import Source\n",
    "\n",
    "Source.from_file(os.path.join(IMAGES_PATH, \"iris_tree.dot\"))"
   ]
  },
  {
   "cell_type": "code",
   "execution_count": 14,
   "metadata": {},
   "outputs": [],
   "source": [
    "@performance\n",
    "def train_model(model, X, y):\n",
    "    model.fit(X, y)"
   ]
  },
  {
   "cell_type": "code",
   "execution_count": 15,
   "metadata": {},
   "outputs": [],
   "source": [
    "@performance\n",
    "def predict_model(model, X):\n",
    "    predictions = model.predict(X)\n",
    "    return predictions"
   ]
  },
  {
   "cell_type": "markdown",
   "metadata": {},
   "source": [
    "##  Downloading Data Set"
   ]
  },
  {
   "cell_type": "code",
   "execution_count": 5,
   "metadata": {},
   "outputs": [],
   "source": [
    "from sklearn.datasets import fetch_openml\n",
    " \n",
    "mnist = fetch_openml(\"mnist_784\", version=1)"
   ]
  },
  {
   "cell_type": "code",
   "execution_count": 6,
   "metadata": {},
   "outputs": [
    {
     "data": {
      "text/plain": [
       "dict_keys(['data', 'target', 'frame', 'categories', 'feature_names', 'target_names', 'DESCR', 'details', 'url'])"
      ]
     },
     "execution_count": 6,
     "metadata": {},
     "output_type": "execute_result"
    }
   ],
   "source": [
    "mnist.keys()"
   ]
  },
  {
   "cell_type": "code",
   "execution_count": 7,
   "metadata": {},
   "outputs": [],
   "source": [
    "X = mnist.data\n",
    "y = mnist.target"
   ]
  },
  {
   "cell_type": "markdown",
   "metadata": {},
   "source": [
    "## EDA"
   ]
  },
  {
   "cell_type": "code",
   "execution_count": 7,
   "metadata": {
    "scrolled": true
   },
   "outputs": [],
   "source": [
    "# X[0]"
   ]
  },
  {
   "cell_type": "code",
   "execution_count": 8,
   "metadata": {},
   "outputs": [
    {
     "data": {
      "text/plain": [
       "'5'"
      ]
     },
     "execution_count": 8,
     "metadata": {},
     "output_type": "execute_result"
    }
   ],
   "source": [
    "y[0]"
   ]
  },
  {
   "cell_type": "code",
   "execution_count": 8,
   "metadata": {},
   "outputs": [],
   "source": [
    "y = y.astype(np.uint8)"
   ]
  },
  {
   "cell_type": "code",
   "execution_count": 70,
   "metadata": {},
   "outputs": [
    {
     "data": {
      "text/plain": [
       "(-0.5, 27.5, 27.5, -0.5)"
      ]
     },
     "execution_count": 70,
     "metadata": {},
     "output_type": "execute_result"
    },
    {
     "data": {
      "image/png": "[encoded data removed]",
      "text/plain": [
       "<Figure size 432x288 with 1 Axes>"
      ]
     },
     "metadata": {
      "needs_background": "light"
     },
     "output_type": "display_data"
    }
   ],
   "source": [
    "first_digit_info = X[0]\n",
    "first_digit_image = first_digit_info.reshape(28,28)\n",
    "\n",
    "plt.imshow(first_digit_image, cmap='binary')\n",
    "plt.axis(\"on\")"
   ]
  },
  {
   "cell_type": "markdown",
   "metadata": {},
   "source": [
    "## Split the Data"
   ]
  },
  {
   "cell_type": "markdown",
   "metadata": {},
   "source": [
    "- Need to create validation sets??? -> Use 50000, 10000, 10000 for train/valid/test sets\n",
    "- Do \"data augmentation\" (create shifted copies of each image in the training set)\n",
    "- Do I need to worry about stratified sampling (I think the data is already split appropriately)\n",
    "\n",
    "\n",
    "The MNIST dataset is already split for use (first 60000 is training; rest is test)"
   ]
  },
  {
   "cell_type": "code",
   "execution_count": null,
   "metadata": {},
   "outputs": [],
   "source": []
  },
  {
   "cell_type": "code",
   "execution_count": 9,
   "metadata": {},
   "outputs": [],
   "source": [
    "X_train, X_test, y_train, y_test = X[:60000], X[60000:], y[:60000], y[60000:]"
   ]
  },
  {
   "cell_type": "code",
   "execution_count": 10,
   "metadata": {},
   "outputs": [],
   "source": [
    "X_train, X_valid, y_train, y_valid = X_train[:50000], X_train[50000:], y_train[:50000], y_train[50000:]"
   ]
  },
  {
   "cell_type": "markdown",
   "metadata": {},
   "source": [
    "## ML Model Creation"
   ]
  },
  {
   "cell_type": "markdown",
   "metadata": {},
   "source": [
    "Don't spend too much time tweaking hyperparameters to start. You are just trying to shortlist a few promising models, and then you can perform fine-tuning."
   ]
  },
  {
   "cell_type": "markdown",
   "metadata": {},
   "source": [
    "- Try to implement k-fold cross-validation???\n",
    "- Do grid search\n",
    "- Consider OvO and OvR\n",
    "- Look at learning curves (eval. metric vs. training set size)\n",
    "- Can then try implementing early stopping?"
   ]
  },
  {
   "cell_type": "markdown",
   "metadata": {},
   "source": [
    "**Gradient Descent**"
   ]
  },
  {
   "cell_type": "code",
   "execution_count": null,
   "metadata": {},
   "outputs": [],
   "source": []
  },
  {
   "cell_type": "markdown",
   "metadata": {},
   "source": [
    "**Logistic (ie. soft-max) Regression**"
   ]
  },
  {
   "cell_type": "code",
   "execution_count": null,
   "metadata": {},
   "outputs": [],
   "source": []
  },
  {
   "cell_type": "markdown",
   "metadata": {},
   "source": [
    "**k-Nearest Neighbors**"
   ]
  },
  {
   "cell_type": "code",
   "execution_count": 10,
   "metadata": {},
   "outputs": [],
   "source": [
    "knn_model = KNeighborsClassifier(n_neighbors = 5, weights = \"distance\")"
   ]
  },
  {
   "cell_type": "code",
   "execution_count": 13,
   "metadata": {},
   "outputs": [
    {
     "name": "stdout",
     "output_type": "stream",
     "text": [
      "Time taken: 42.430959701538086 seconds\n"
     ]
    }
   ],
   "source": [
    "train_model(knn_model, X_train, y_train)"
   ]
  },
  {
   "cell_type": "code",
   "execution_count": 14,
   "metadata": {},
   "outputs": [
    {
     "name": "stdout",
     "output_type": "stream",
     "text": [
      "Time taken: 0.09173083305358887 seconds\n"
     ]
    },
    {
     "data": {
      "text/plain": [
       "array([5], dtype=uint8)"
      ]
     },
     "execution_count": 14,
     "metadata": {},
     "output_type": "execute_result"
    }
   ],
   "source": [
    "predict_model(knn_model, [X[0]])"
   ]
  },
  {
   "cell_type": "code",
   "execution_count": 59,
   "metadata": {},
   "outputs": [
    {
     "data": {
      "text/plain": [
       "array([5], dtype=uint8)"
      ]
     },
     "execution_count": 59,
     "metadata": {},
     "output_type": "execute_result"
    }
   ],
   "source": [
    "knn_model.predict([X[0]])"
   ]
  },
  {
   "cell_type": "code",
   "execution_count": 44,
   "metadata": {},
   "outputs": [
    {
     "data": {
      "text/plain": [
       "array([[0. , 0. , 0. , 0.2, 0. , 0.8, 0. , 0. , 0. , 0. ]])"
      ]
     },
     "execution_count": 44,
     "metadata": {},
     "output_type": "execute_result"
    }
   ],
   "source": [
    "knn_model.predict_proba([X[0]])"
   ]
  },
  {
   "cell_type": "code",
   "execution_count": 15,
   "metadata": {},
   "outputs": [
    {
     "name": "stdout",
     "output_type": "stream",
     "text": [
      "Time taken: 778.7831933498383 seconds\n"
     ]
    }
   ],
   "source": [
    "knn_predictions = predict_model(knn_model, X_valid)"
   ]
  },
  {
   "cell_type": "code",
   "execution_count": 16,
   "metadata": {},
   "outputs": [
    {
     "data": {
      "text/plain": [
       "array([3, 8, 6, ..., 5, 6, 8], dtype=uint8)"
      ]
     },
     "execution_count": 16,
     "metadata": {},
     "output_type": "execute_result"
    }
   ],
   "source": [
    "knn_predictions"
   ]
  },
  {
   "cell_type": "code",
   "execution_count": 17,
   "metadata": {},
   "outputs": [
    {
     "data": {
      "text/plain": [
       "array([[ 984,    0,    3,    0,    0,    0,    2,    0,    0,    2],\n",
       "       [   0, 1060,    1,    0,    1,    0,    1,    1,    0,    0],\n",
       "       [   3,    8,  955,    2,    1,    1,    1,   16,    1,    2],\n",
       "       [   0,    0,    4, 1006,    0,    7,    1,    3,    6,    3],\n",
       "       [   0,    9,    0,    0,  946,    0,    0,    4,    0,   24],\n",
       "       [   2,    1,    1,   16,    2,  868,   17,    3,    2,    3],\n",
       "       [   1,    0,    0,    0,    0,    1,  965,    0,    0,    0],\n",
       "       [   0,    9,    0,    0,    3,    0,    0, 1070,    0,    8],\n",
       "       [   2,    7,    1,   13,    3,   14,    4,    4,  952,    9],\n",
       "       [   4,    3,    0,    9,   11,    2,    0,    5,    1,  926]],\n",
       "      dtype=int64)"
      ]
     },
     "execution_count": 17,
     "metadata": {},
     "output_type": "execute_result"
    }
   ],
   "source": [
    "confusion_matrix(y_valid, knn_predictions)"
   ]
  },
  {
   "cell_type": "code",
   "execution_count": 18,
   "metadata": {},
   "outputs": [
    {
     "data": {
      "text/plain": [
       "0.9732"
      ]
     },
     "execution_count": 18,
     "metadata": {},
     "output_type": "execute_result"
    }
   ],
   "source": [
    "accuracy_score(y_valid, knn_predictions)"
   ]
  },
  {
   "cell_type": "code",
   "execution_count": 79,
   "metadata": {},
   "outputs": [],
   "source": [
    "knn_params = [\n",
    "    {\"n_neighbors\": [5, 6, 7], \"weights\": [\"uniform\", \"distance\"]}\n",
    "]"
   ]
  },
  {
   "cell_type": "code",
   "execution_count": 80,
   "metadata": {},
   "outputs": [],
   "source": [
    "knn__gridsearch = KNeighborsClassifier()"
   ]
  },
  {
   "cell_type": "code",
   "execution_count": 81,
   "metadata": {},
   "outputs": [],
   "source": [
    "knn_grid_search_model = GridSearchCV(estimator = knn__gridsearch,\n",
    "                              param_grid = knn_params,\n",
    "                              return_train_score = True)"
   ]
  },
  {
   "cell_type": "code",
   "execution_count": null,
   "metadata": {},
   "outputs": [],
   "source": [
    "train_model(knn_grid_search_model, X_train, y_train)"
   ]
  },
  {
   "cell_type": "code",
   "execution_count": null,
   "metadata": {},
   "outputs": [],
   "source": []
  },
  {
   "cell_type": "markdown",
   "metadata": {},
   "source": [
    "**SVM**"
   ]
  },
  {
   "cell_type": "markdown",
   "metadata": {},
   "source": [
    "- use different kernels (Gaussian RBF, ...)\n",
    "- will need to use OvR strategy (obviously!)\n",
    "    - therefore, try tuning hyperparameters using *small validation sets* to speed up training"
   ]
  },
  {
   "cell_type": "code",
   "execution_count": 11,
   "metadata": {},
   "outputs": [],
   "source": [
    "from sklearn.svm import SVC"
   ]
  },
  {
   "cell_type": "code",
   "execution_count": 12,
   "metadata": {},
   "outputs": [],
   "source": [
    "svc_model = SVC()"
   ]
  },
  {
   "cell_type": "code",
   "execution_count": 16,
   "metadata": {},
   "outputs": [
    {
     "name": "stdout",
     "output_type": "stream",
     "text": [
      "Time taken: 466.93773555755615 seconds\n"
     ]
    }
   ],
   "source": [
    "train_model(svc_model, X_train, y_train)"
   ]
  },
  {
   "cell_type": "code",
   "execution_count": 17,
   "metadata": {},
   "outputs": [
    {
     "name": "stdout",
     "output_type": "stream",
     "text": [
      "Time taken: 141.62647366523743 seconds\n"
     ]
    }
   ],
   "source": [
    "svc_predictions = predict_model(svc_model, X_valid)"
   ]
  },
  {
   "cell_type": "code",
   "execution_count": 18,
   "metadata": {},
   "outputs": [
    {
     "data": {
      "text/plain": [
       "array([[ 980,    0,    5,    0,    0,    0,    3,    0,    1,    2],\n",
       "       [   0, 1057,    2,    1,    1,    0,    1,    1,    0,    1],\n",
       "       [   2,    0,  974,    0,    3,    1,    2,    2,    5,    1],\n",
       "       [   0,    1,    3, 1001,    1,    9,    0,    2,   11,    2],\n",
       "       [   0,    6,    0,    0,  965,    0,    0,    1,    0,   11],\n",
       "       [   2,    0,    4,   11,    3,  883,    7,    1,    2,    2],\n",
       "       [   2,    0,    0,    0,    1,    1,  961,    0,    2,    0],\n",
       "       [   0,    6,    6,    1,    3,    0,    0, 1067,    0,    7],\n",
       "       [   1,    2,    4,    5,    0,    5,    2,    0,  986,    4],\n",
       "       [   2,    3,    1,    4,    7,    4,    0,    9,    3,  928]],\n",
       "      dtype=int64)"
      ]
     },
     "execution_count": 18,
     "metadata": {},
     "output_type": "execute_result"
    }
   ],
   "source": [
    "confusion_matrix(y_valid, svc_predictions)"
   ]
  },
  {
   "cell_type": "code",
   "execution_count": 19,
   "metadata": {},
   "outputs": [
    {
     "data": {
      "text/plain": [
       "0.9802"
      ]
     },
     "execution_count": 19,
     "metadata": {},
     "output_type": "execute_result"
    }
   ],
   "source": [
    "accuracy_score(y_valid, svc_predictions)"
   ]
  },
  {
   "cell_type": "code",
   "execution_count": 40,
   "metadata": {},
   "outputs": [
    {
     "name": "stdout",
     "output_type": "stream",
     "text": [
      "[5],[0],[4],[1],[9],[2],[1],[3],[1],[4],\n",
      "\n",
      "5  ,0  ,4  ,1  ,9  ,2  ,1  ,3  ,1  ,4  ,"
     ]
    }
   ],
   "source": [
    "for _ in range(10):\n",
    "    print(svc_model.predict([X[_]]), end = \",\")\n",
    "\n",
    "print(\"\\n\")\n",
    "for _ in range(10):\n",
    "    print(y[_], end=\"  ,\")"
   ]
  },
  {
   "cell_type": "code",
   "execution_count": null,
   "metadata": {},
   "outputs": [],
   "source": []
  },
  {
   "cell_type": "markdown",
   "metadata": {},
   "source": [
    "**Decision Tree**"
   ]
  },
  {
   "cell_type": "markdown",
   "metadata": {},
   "source": [
    "- can visualize using Graphviz (but the tree may be too big!)"
   ]
  },
  {
   "cell_type": "code",
   "execution_count": 28,
   "metadata": {},
   "outputs": [],
   "source": [
    "from sklearn.tree import DecisionTreeClassifier"
   ]
  },
  {
   "cell_type": "code",
   "execution_count": 29,
   "metadata": {},
   "outputs": [],
   "source": [
    "tree_model = DecisionTreeClassifier()"
   ]
  },
  {
   "cell_type": "code",
   "execution_count": 30,
   "metadata": {},
   "outputs": [
    {
     "name": "stdout",
     "output_type": "stream",
     "text": [
      "Time taken: 21.371787071228027 seconds\n"
     ]
    }
   ],
   "source": [
    "train_model(tree_model, X_train, y_train)"
   ]
  },
  {
   "cell_type": "code",
   "execution_count": 41,
   "metadata": {},
   "outputs": [
    {
     "name": "stdout",
     "output_type": "stream",
     "text": [
      "Time taken: 0.05386161804199219 seconds\n"
     ]
    }
   ],
   "source": [
    "tree_predictions = predict_model(tree_model, X_valid)"
   ]
  },
  {
   "cell_type": "code",
   "execution_count": 42,
   "metadata": {},
   "outputs": [
    {
     "data": {
      "text/plain": [
       "array([[ 916,    1,    8,   10,    6,   15,   11,    4,   15,    5],\n",
       "       [   1, 1019,    8,    6,    1,    3,    2,    9,   12,    3],\n",
       "       [  15,   16,  865,   15,   10,    8,   13,   25,   17,    6],\n",
       "       [   7,    6,   24,  885,   13,   27,    7,   15,   23,   23],\n",
       "       [   6,    5,    9,   10,  837,    8,   10,   19,   23,   56],\n",
       "       [  12,    8,    7,   45,   14,  749,   24,    6,   31,   19],\n",
       "       [   6,    2,   10,    7,   13,   15,  898,    3,   12,    1],\n",
       "       [   1,    8,   21,    7,   13,    8,    2,  998,    4,   28],\n",
       "       [  12,   11,   24,   35,   13,   29,   17,   11,  829,   28],\n",
       "       [   4,    3,    9,   16,   29,   16,    4,   29,   21,  830]],\n",
       "      dtype=int64)"
      ]
     },
     "execution_count": 42,
     "metadata": {},
     "output_type": "execute_result"
    }
   ],
   "source": [
    "confusion_matrix(y_valid, tree_predictions)"
   ]
  },
  {
   "cell_type": "code",
   "execution_count": 43,
   "metadata": {},
   "outputs": [
    {
     "data": {
      "text/plain": [
       "0.8826"
      ]
     },
     "execution_count": 43,
     "metadata": {},
     "output_type": "execute_result"
    }
   ],
   "source": [
    "accuracy_score(y_valid, tree_predictions)"
   ]
  },
  {
   "cell_type": "code",
   "execution_count": 47,
   "metadata": {},
   "outputs": [
    {
     "name": "stdout",
     "output_type": "stream",
     "text": [
      "[5],[0],[4],[1],[9],[2],[1],[3],[1],[4],\n",
      "\n",
      "5  ,0  ,4  ,1  ,9  ,2  ,1  ,3  ,1  ,4  ,"
     ]
    }
   ],
   "source": [
    "for _ in range(10):\n",
    "    print(svc_model.predict([X[_]]), end = \",\")\n",
    "\n",
    "print(\"\\n\")\n",
    "for _ in range(10):\n",
    "    print(y[_], end=\"  ,\")"
   ]
  },
  {
   "cell_type": "code",
   "execution_count": null,
   "metadata": {},
   "outputs": [],
   "source": []
  },
  {
   "cell_type": "markdown",
   "metadata": {},
   "source": [
    "**Random Forest**"
   ]
  },
  {
   "cell_type": "markdown",
   "metadata": {},
   "source": [
    "- can try to use for feature importance investigations"
   ]
  },
  {
   "cell_type": "code",
   "execution_count": 44,
   "metadata": {},
   "outputs": [],
   "source": [
    "from sklearn.ensemble import RandomForestClassifier"
   ]
  },
  {
   "cell_type": "code",
   "execution_count": 45,
   "metadata": {},
   "outputs": [],
   "source": [
    "forest_model = RandomForestClassifier(n_estimators=100)"
   ]
  },
  {
   "cell_type": "code",
   "execution_count": 46,
   "metadata": {},
   "outputs": [
    {
     "name": "stdout",
     "output_type": "stream",
     "text": [
      "Time taken: 49.54029989242554 seconds\n"
     ]
    }
   ],
   "source": [
    "train_model(forest_model, X_train, y_train)"
   ]
  },
  {
   "cell_type": "code",
   "execution_count": 48,
   "metadata": {},
   "outputs": [
    {
     "name": "stdout",
     "output_type": "stream",
     "text": [
      "[5],[0],[4],[1],[9],[2],[1],[3],[1],[4],\n",
      "\n",
      "5  ,0  ,4  ,1  ,9  ,2  ,1  ,3  ,1  ,4  ,"
     ]
    }
   ],
   "source": [
    "for _ in range(10):\n",
    "    print(svc_model.predict([X[_]]), end = \",\")\n",
    "\n",
    "print(\"\\n\")\n",
    "for _ in range(10):\n",
    "    print(y[_], end=\"  ,\")"
   ]
  },
  {
   "cell_type": "code",
   "execution_count": 49,
   "metadata": {},
   "outputs": [
    {
     "name": "stdout",
     "output_type": "stream",
     "text": [
      "Time taken: 0.569481611251831 seconds\n"
     ]
    }
   ],
   "source": [
    "forest_predictions = predict_model(forest_model, X_valid)"
   ]
  },
  {
   "cell_type": "code",
   "execution_count": 50,
   "metadata": {},
   "outputs": [
    {
     "data": {
      "text/plain": [
       "array([[ 982,    0,    3,    0,    0,    0,    2,    0,    2,    2],\n",
       "       [   0, 1053,    5,    2,    1,    0,    1,    0,    2,    0],\n",
       "       [   3,    1,  962,    2,    3,    1,    3,    7,    6,    2],\n",
       "       [   2,    0,    4,  999,    0,    7,    2,    3,    8,    5],\n",
       "       [   1,    3,    0,    0,  962,    1,    1,    1,    2,   12],\n",
       "       [   3,    0,    4,   19,    2,  869,    8,    0,    7,    3],\n",
       "       [   0,    0,    0,    1,    2,    2,  959,    0,    3,    0],\n",
       "       [   1,    4,    7,    2,    4,    0,    0, 1060,    0,   12],\n",
       "       [   1,    5,    6,    5,    3,    7,    5,    0,  969,    8],\n",
       "       [   6,    1,    0,   11,   11,    5,    0,    9,    8,  910]],\n",
       "      dtype=int64)"
      ]
     },
     "execution_count": 50,
     "metadata": {},
     "output_type": "execute_result"
    }
   ],
   "source": [
    "confusion_matrix(y_valid, forest_predictions)"
   ]
  },
  {
   "cell_type": "code",
   "execution_count": 52,
   "metadata": {},
   "outputs": [
    {
     "data": {
      "text/plain": [
       "0.9725"
      ]
     },
     "execution_count": 52,
     "metadata": {},
     "output_type": "execute_result"
    }
   ],
   "source": [
    "accuracy_score(y_valid, forest_predictions)"
   ]
  },
  {
   "cell_type": "code",
   "execution_count": 56,
   "metadata": {},
   "outputs": [
    {
     "data": {
      "text/plain": [
       "array([0.00000000e+00, 0.00000000e+00, 0.00000000e+00, 0.00000000e+00,\n",
       "       0.00000000e+00, 0.00000000e+00, 0.00000000e+00, 0.00000000e+00,\n",
       "       0.00000000e+00, 0.00000000e+00, 0.00000000e+00, 0.00000000e+00,\n",
       "       0.00000000e+00, 0.00000000e+00, 0.00000000e+00, 0.00000000e+00,\n",
       "       0.00000000e+00, 0.00000000e+00, 0.00000000e+00, 0.00000000e+00,\n",
       "       0.00000000e+00, 0.00000000e+00, 0.00000000e+00, 0.00000000e+00,\n",
       "       0.00000000e+00, 0.00000000e+00, 0.00000000e+00, 0.00000000e+00,\n",
       "       0.00000000e+00, 0.00000000e+00, 0.00000000e+00, 0.00000000e+00,\n",
       "       0.00000000e+00, 0.00000000e+00, 3.57734568e-06, 3.44346584e-06,\n",
       "       3.41010232e-06, 1.10984717e-06, 1.86009103e-06, 1.78445701e-06,\n",
       "       2.22153984e-06, 2.14718443e-06, 3.43431560e-06, 4.01764387e-06,\n",
       "       3.02960244e-06, 3.10376129e-06, 1.62623318e-06, 8.33570244e-07,\n",
       "       3.79049525e-07, 7.06318867e-07, 8.65940023e-07, 1.68088379e-06,\n",
       "       0.00000000e+00, 0.00000000e+00, 0.00000000e+00, 0.00000000e+00,\n",
       "       0.00000000e+00, 0.00000000e+00, 0.00000000e+00, 0.00000000e+00,\n",
       "       0.00000000e+00, 0.00000000e+00, 1.15404982e-05, 1.17491284e-05,\n",
       "       2.26559555e-05, 3.67518994e-05, 2.51415271e-05, 1.23308954e-04,\n",
       "       1.05849613e-04, 1.51244441e-04, 1.80812799e-04, 8.39215662e-05,\n",
       "       1.15991296e-04, 8.33308155e-05, 8.61764728e-05, 9.14401222e-05,\n",
       "       1.66095103e-05, 9.78250942e-06, 6.80404078e-06, 1.97820856e-06,\n",
       "       1.19133722e-06, 0.00000000e+00, 0.00000000e+00, 0.00000000e+00,\n",
       "       0.00000000e+00, 0.00000000e+00, 0.00000000e+00, 0.00000000e+00,\n",
       "       8.24117781e-07, 1.23830974e-06, 7.56652805e-06, 1.54847772e-05,\n",
       "       6.72560267e-05, 1.20672300e-04, 2.07668093e-04, 4.66933257e-04,\n",
       "       7.78501662e-04, 7.24657632e-04, 1.71580129e-03, 1.41365723e-03,\n",
       "       1.67188785e-03, 2.07509958e-03, 1.52624907e-03, 1.12378341e-03,\n",
       "       3.26558465e-04, 1.23652619e-04, 7.13180406e-05, 3.89032813e-05,\n",
       "       1.10547815e-05, 3.97106956e-06, 0.00000000e+00, 0.00000000e+00,\n",
       "       0.00000000e+00, 0.00000000e+00, 0.00000000e+00, 1.23643004e-06,\n",
       "       4.20646106e-06, 1.26055949e-05, 3.15324939e-05, 9.24018827e-05,\n",
       "       1.66758451e-04, 3.13348983e-04, 7.20392355e-04, 1.21771349e-03,\n",
       "       2.01672221e-03, 1.96201838e-03, 2.16608012e-03, 2.03015141e-03,\n",
       "       1.54679407e-03, 1.21562432e-03, 7.10106188e-04, 6.88029176e-04,\n",
       "       3.56654601e-04, 2.72327594e-04, 1.14556111e-04, 7.90428470e-05,\n",
       "       3.01647100e-05, 2.18932273e-05, 8.29935355e-07, 7.51085683e-07,\n",
       "       0.00000000e+00, 0.00000000e+00, 0.00000000e+00, 3.76436032e-06,\n",
       "       1.23895288e-05, 4.44101420e-05, 1.29961813e-04, 2.46687157e-04,\n",
       "       4.70142692e-04, 9.89857953e-04, 1.93026817e-03, 2.45702143e-03,\n",
       "       3.06237647e-03, 5.03911929e-03, 5.22525382e-03, 6.41884472e-03,\n",
       "       5.87494382e-03, 2.91125372e-03, 2.04773635e-03, 1.65530884e-03,\n",
       "       7.61603683e-04, 6.05707864e-04, 5.29710833e-04, 2.25083254e-04,\n",
       "       1.13840708e-04, 3.02539327e-05, 2.58910659e-06, 1.17845442e-06,\n",
       "       0.00000000e+00, 0.00000000e+00, 1.43383981e-06, 4.70030176e-06,\n",
       "       2.33438102e-05, 1.18772949e-04, 2.63957176e-04, 5.91979640e-04,\n",
       "       1.07683946e-03, 2.35527360e-03, 2.22282418e-03, 2.35623279e-03,\n",
       "       2.63002684e-03, 2.83963133e-03, 3.80379585e-03, 3.48249261e-03,\n",
       "       3.87446579e-03, 2.64856103e-03, 1.90157814e-03, 1.45084450e-03,\n",
       "       1.39138908e-03, 1.17885555e-03, 1.44657850e-03, 7.57083189e-04,\n",
       "       4.60418982e-04, 5.68495502e-05, 1.08807808e-05, 4.41388277e-06,\n",
       "       0.00000000e+00, 4.29982023e-07, 1.69160521e-06, 1.71655099e-05,\n",
       "       6.47313693e-05, 1.66540744e-04, 3.92750610e-04, 6.61641420e-04,\n",
       "       1.44571470e-03, 1.32997809e-03, 2.38504550e-03, 2.15375673e-03,\n",
       "       2.08022717e-03, 3.75969834e-03, 5.85984139e-03, 5.84742777e-03,\n",
       "       5.11874845e-03, 2.50668664e-03, 2.37793553e-03, 2.72883111e-03,\n",
       "       1.77858932e-03, 1.34847648e-03, 1.28748286e-03, 1.40198530e-03,\n",
       "       6.64611091e-04, 1.62352662e-04, 1.35168489e-05, 1.20710778e-06,\n",
       "       0.00000000e+00, 0.00000000e+00, 3.76394409e-06, 2.33776730e-05,\n",
       "       9.32507255e-05, 2.02470092e-04, 4.12895368e-04, 8.48480394e-04,\n",
       "       1.13500456e-03, 1.76709281e-03, 3.35453234e-03, 2.38480464e-03,\n",
       "       2.80478970e-03, 4.51619390e-03, 5.96416782e-03, 6.17603479e-03,\n",
       "       4.36062215e-03, 3.90336920e-03, 3.64470913e-03, 2.90598166e-03,\n",
       "       2.53734259e-03, 1.64365322e-03, 1.34202899e-03, 1.09205086e-03,\n",
       "       9.09340555e-04, 1.70526228e-04, 1.34108073e-05, 2.45842656e-06,\n",
       "       0.00000000e+00, 1.15648189e-06, 8.04701934e-06, 2.39935695e-05,\n",
       "       1.01765503e-04, 1.93838793e-04, 4.57340471e-04, 8.19831818e-04,\n",
       "       1.31402969e-03, 2.16756631e-03, 4.55781684e-03, 5.25553651e-03,\n",
       "       3.36425823e-03, 3.29704281e-03, 3.99095630e-03, 4.43535725e-03,\n",
       "       3.20995632e-03, 3.34333778e-03, 4.02594534e-03, 3.78312820e-03,\n",
       "       2.76314071e-03, 1.67649099e-03, 1.14063909e-03, 7.39137537e-04,\n",
       "       5.10897138e-04, 1.45537772e-04, 2.01003668e-05, 2.96618504e-06,\n",
       "       0.00000000e+00, 0.00000000e+00, 4.75920882e-06, 4.92212443e-05,\n",
       "       1.02995983e-04, 2.57291157e-04, 4.72007530e-04, 8.58945593e-04,\n",
       "       1.99475583e-03, 3.28572274e-03, 5.22427228e-03, 4.46731442e-03,\n",
       "       3.21394294e-03, 3.03136162e-03, 2.85525500e-03, 3.86605618e-03,\n",
       "       3.43550545e-03, 4.30077502e-03, 4.15611157e-03, 2.89667595e-03,\n",
       "       2.46816275e-03, 2.02489619e-03, 1.19299730e-03, 6.06599533e-04,\n",
       "       2.22621007e-04, 7.04610783e-05, 8.52264007e-06, 3.54895697e-06,\n",
       "       0.00000000e+00, 4.14515235e-07, 2.42134883e-06, 2.66093403e-05,\n",
       "       8.83825167e-05, 2.36951666e-04, 7.56070751e-04, 1.17017786e-03,\n",
       "       2.30021296e-03, 3.28847859e-03, 4.08143581e-03, 5.31048344e-03,\n",
       "       3.62881958e-03, 2.86099295e-03, 5.19451450e-03, 4.42600495e-03,\n",
       "       3.49869921e-03, 2.97737422e-03, 4.57720451e-03, 3.64038403e-03,\n",
       "       2.44415331e-03, 1.89178498e-03, 1.46107490e-03, 7.92853733e-04,\n",
       "       1.71466371e-04, 3.25245896e-05, 9.47488981e-06, 1.28042821e-06,\n",
       "       0.00000000e+00, 0.00000000e+00, 2.10839416e-06, 1.96544456e-05,\n",
       "       1.10742830e-04, 3.53740396e-04, 1.11013572e-03, 1.54726687e-03,\n",
       "       2.12580165e-03, 7.25732723e-03, 5.90036620e-03, 5.70058991e-03,\n",
       "       4.65565026e-03, 4.12216774e-03, 9.51041550e-03, 5.18979349e-03,\n",
       "       3.00558671e-03, 4.41344245e-03, 3.70736418e-03, 2.27774721e-03,\n",
       "       1.76489509e-03, 1.18343461e-03, 1.65688810e-03, 8.46370012e-04,\n",
       "       1.07216641e-04, 1.95931549e-05, 1.09160083e-05, 4.38469908e-07,\n",
       "       0.00000000e+00, 0.00000000e+00, 1.94672068e-06, 1.24825368e-05,\n",
       "       6.37575343e-05, 3.93797344e-04, 7.35459593e-04, 1.92706266e-03,\n",
       "       2.81379169e-03, 5.39230651e-03, 4.54742836e-03, 5.40264109e-03,\n",
       "       4.68792429e-03, 5.74009133e-03, 1.04497417e-02, 4.98927181e-03,\n",
       "       3.88021169e-03, 5.59050613e-03, 4.86366189e-03, 1.89018215e-03,\n",
       "       1.40571227e-03, 2.10414826e-03, 2.23786282e-03, 1.16879256e-03,\n",
       "       1.49390234e-04, 2.05354669e-05, 1.12667337e-05, 8.25959944e-07,\n",
       "       0.00000000e+00, 8.47761164e-07, 1.93001003e-06, 2.16379139e-05,\n",
       "       1.18642150e-04, 4.26697775e-04, 1.69491653e-03, 1.82886563e-03,\n",
       "       3.34849269e-03, 3.65576219e-03, 4.34488121e-03, 6.30909418e-03,\n",
       "       3.63535344e-03, 5.42171477e-03, 7.71661406e-03, 4.39151011e-03,\n",
       "       3.97833837e-03, 7.59158500e-03, 2.65801914e-03, 1.41184741e-03,\n",
       "       1.11235482e-03, 1.49511096e-03, 1.50015708e-03, 8.30434992e-04,\n",
       "       1.32869712e-04, 2.56375985e-05, 6.55686124e-06, 0.00000000e+00,\n",
       "       0.00000000e+00, 1.22475259e-06, 1.21242056e-06, 1.97568926e-05,\n",
       "       9.60525737e-05, 4.13041260e-04, 1.21900366e-03, 2.24455048e-03,\n",
       "       4.62740110e-03, 5.95593839e-03, 6.01071026e-03, 4.80110018e-03,\n",
       "       5.35475667e-03, 6.57046743e-03, 7.29686588e-03, 3.83263058e-03,\n",
       "       5.20804752e-03, 5.00489480e-03, 2.84841563e-03, 1.63941637e-03,\n",
       "       1.50405824e-03, 1.75030200e-03, 1.02634517e-03, 4.60008352e-04,\n",
       "       1.85391544e-04, 4.57974101e-05, 1.30723602e-05, 0.00000000e+00,\n",
       "       0.00000000e+00, 4.24231779e-07, 5.47939875e-06, 2.87588439e-05,\n",
       "       9.16422446e-05, 4.70799253e-04, 1.86267829e-03, 2.88959197e-03,\n",
       "       4.48494019e-03, 3.32637204e-03, 3.93983297e-03, 4.24964379e-03,\n",
       "       5.99047040e-03, 7.38618569e-03, 5.83617359e-03, 3.19140557e-03,\n",
       "       3.11083644e-03, 3.36101700e-03, 2.26951149e-03, 2.57887886e-03,\n",
       "       1.95567362e-03, 8.36344185e-04, 6.05075785e-04, 3.95040080e-04,\n",
       "       1.44376479e-04, 4.83452526e-05, 1.96433473e-05, 1.21382232e-06,\n",
       "       0.00000000e+00, 0.00000000e+00, 9.96144862e-06, 4.23912696e-05,\n",
       "       1.62973448e-04, 4.44100486e-04, 8.41864833e-04, 3.21094593e-03,\n",
       "       2.58212002e-03, 4.05658654e-03, 4.67416479e-03, 5.10569311e-03,\n",
       "       4.81506429e-03, 6.10060202e-03, 3.92867058e-03, 2.36349046e-03,\n",
       "       2.26632084e-03, 3.93160554e-03, 2.84192066e-03, 1.52715916e-03,\n",
       "       1.79556938e-03, 7.82350575e-04, 6.31306806e-04, 3.58681898e-04,\n",
       "       2.37724105e-04, 6.71216374e-05, 1.15381471e-05, 3.12187461e-06,\n",
       "       0.00000000e+00, 4.38648848e-07, 9.80294012e-06, 4.20513883e-05,\n",
       "       1.46055470e-04, 4.57673827e-04, 1.74710877e-03, 2.36815508e-03,\n",
       "       3.09184166e-03, 4.77801430e-03, 5.79926261e-03, 6.85970177e-03,\n",
       "       4.42967278e-03, 4.89993404e-03, 2.81876657e-03, 2.21473217e-03,\n",
       "       1.59658400e-03, 3.10742639e-03, 2.39621298e-03, 2.71354099e-03,\n",
       "       1.12000297e-03, 8.57350770e-04, 6.55083302e-04, 3.78610802e-04,\n",
       "       2.19846944e-04, 4.09573354e-05, 8.30597219e-06, 2.88645838e-06,\n",
       "       0.00000000e+00, 2.22310022e-07, 1.51196782e-05, 7.29125395e-05,\n",
       "       1.93186251e-04, 7.93956828e-04, 1.60934074e-03, 3.46301395e-03,\n",
       "       3.85322597e-03, 4.59593490e-03, 7.08270262e-03, 6.03956392e-03,\n",
       "       3.29534672e-03, 2.72524857e-03, 1.81261215e-03, 1.30238969e-03,\n",
       "       1.58726834e-03, 2.00386384e-03, 2.43348420e-03, 2.80436581e-03,\n",
       "       1.65831305e-03, 1.22966167e-03, 6.36805592e-04, 3.80802172e-04,\n",
       "       1.84128252e-04, 3.49940793e-05, 4.26020773e-06, 2.22278211e-07,\n",
       "       0.00000000e+00, 0.00000000e+00, 6.27407974e-06, 8.11019532e-05,\n",
       "       2.00884334e-04, 5.85316448e-04, 1.73619512e-03, 5.09358980e-03,\n",
       "       3.80789709e-03, 5.79597227e-03, 3.23292724e-03, 3.41480981e-03,\n",
       "       2.71488872e-03, 2.86198569e-03, 1.77607724e-03, 1.47806484e-03,\n",
       "       1.43211069e-03, 1.93734750e-03, 2.29600465e-03, 1.44630237e-03,\n",
       "       1.36791417e-03, 1.32531157e-03, 7.04704726e-04, 3.79833273e-04,\n",
       "       9.78693163e-05, 2.07440379e-05, 2.58482593e-06, 0.00000000e+00,\n",
       "       0.00000000e+00, 0.00000000e+00, 9.69868386e-06, 4.10184197e-05,\n",
       "       1.59011285e-04, 5.67042820e-04, 9.71409465e-04, 3.61469751e-03,\n",
       "       4.00283051e-03, 4.71276747e-03, 2.39051736e-03, 1.49523311e-03,\n",
       "       1.44888231e-03, 1.52021882e-03, 1.52671472e-03, 1.62669578e-03,\n",
       "       1.03117703e-03, 1.30339109e-03, 2.45191590e-03, 9.05673446e-04,\n",
       "       9.73240648e-04, 6.20526989e-04, 3.32897517e-04, 1.21667732e-04,\n",
       "       3.75662260e-05, 6.78752494e-06, 8.70401614e-07, 0.00000000e+00,\n",
       "       0.00000000e+00, 0.00000000e+00, 2.48444137e-06, 2.29338388e-05,\n",
       "       9.26585269e-05, 2.93761034e-04, 8.21989109e-04, 1.58976035e-03,\n",
       "       2.51601529e-03, 2.38233177e-03, 2.65491341e-03, 2.36175460e-03,\n",
       "       1.72903415e-03, 1.75016842e-03, 2.07360006e-03, 1.36605969e-03,\n",
       "       1.25239829e-03, 9.14188000e-04, 1.12601239e-03, 6.13461087e-04,\n",
       "       5.87933811e-04, 2.48601932e-04, 2.02020192e-04, 5.91159471e-05,\n",
       "       1.93892004e-05, 5.43509915e-06, 2.22288481e-07, 0.00000000e+00,\n",
       "       0.00000000e+00, 0.00000000e+00, 4.31958723e-07, 2.28997840e-05,\n",
       "       5.58665851e-05, 1.53926641e-04, 2.93328185e-04, 8.65066277e-04,\n",
       "       1.54539915e-03, 1.88510910e-03, 3.29178372e-03, 3.93086437e-03,\n",
       "       4.36575563e-03, 5.59967399e-03, 3.86105691e-03, 2.63775836e-03,\n",
       "       1.47898946e-03, 1.18180998e-03, 5.87749345e-04, 4.19552595e-04,\n",
       "       2.80253672e-04, 1.61189361e-04, 7.67070822e-05, 3.98980058e-05,\n",
       "       1.17264901e-05, 3.46351656e-06, 4.10430237e-07, 0.00000000e+00,\n",
       "       0.00000000e+00, 0.00000000e+00, 2.01129735e-06, 1.16149787e-05,\n",
       "       3.01414798e-05, 1.15048189e-04, 2.41374365e-04, 3.77007920e-04,\n",
       "       5.31820432e-04, 9.51911291e-04, 1.11577667e-03, 1.38792684e-03,\n",
       "       1.54959029e-03, 1.77654154e-03, 9.40333077e-04, 9.00110151e-04,\n",
       "       6.83086123e-04, 5.10820206e-04, 3.31683479e-04, 2.57270789e-04,\n",
       "       1.66261693e-04, 7.62707718e-05, 3.80456807e-05, 2.11983293e-05,\n",
       "       5.64297473e-06, 1.25993336e-06, 4.22587235e-07, 0.00000000e+00,\n",
       "       0.00000000e+00, 0.00000000e+00, 0.00000000e+00, 7.13547294e-06,\n",
       "       1.58645855e-05, 4.21705513e-05, 7.11834889e-05, 2.33569308e-04,\n",
       "       5.69215191e-04, 5.71292385e-04, 9.11933316e-04, 9.72202795e-04,\n",
       "       9.28457680e-04, 7.63574698e-04, 5.15379709e-04, 4.77790753e-04,\n",
       "       4.38894912e-04, 3.53822880e-04, 2.72668292e-04, 2.15699291e-04,\n",
       "       9.29093931e-05, 5.47764438e-05, 2.34672146e-05, 4.66843581e-06,\n",
       "       8.61322474e-07, 0.00000000e+00, 0.00000000e+00, 0.00000000e+00,\n",
       "       0.00000000e+00, 0.00000000e+00, 0.00000000e+00, 0.00000000e+00,\n",
       "       4.18038279e-07, 4.98640316e-06, 7.08996909e-06, 4.72510273e-05,\n",
       "       5.05750005e-05, 8.66045259e-05, 1.80921514e-04, 3.06649476e-04,\n",
       "       1.33461973e-04, 2.09993082e-04, 1.67583996e-04, 1.42268477e-04,\n",
       "       1.64617022e-04, 6.12471011e-05, 4.22364003e-05, 4.12222738e-05,\n",
       "       3.66506366e-05, 1.11462460e-05, 4.42224655e-06, 2.83052002e-06,\n",
       "       0.00000000e+00, 0.00000000e+00, 0.00000000e+00, 0.00000000e+00,\n",
       "       0.00000000e+00, 0.00000000e+00, 0.00000000e+00, 0.00000000e+00,\n",
       "       0.00000000e+00, 0.00000000e+00, 7.35774766e-07, 4.08636934e-07,\n",
       "       8.71193258e-07, 1.14671052e-06, 1.00553940e-06, 3.52319249e-06,\n",
       "       2.24105717e-06, 3.35919530e-06, 2.63596852e-06, 7.27484422e-06,\n",
       "       3.01355728e-06, 4.55263978e-06, 2.54040719e-06, 2.17120877e-06,\n",
       "       2.38658459e-06, 1.31685316e-06, 1.27172414e-06, 4.40868240e-07,\n",
       "       0.00000000e+00, 0.00000000e+00, 0.00000000e+00, 0.00000000e+00])"
      ]
     },
     "execution_count": 56,
     "metadata": {},
     "output_type": "execute_result"
    }
   ],
   "source": [
    "forest_model.feature_importances_"
   ]
  },
  {
   "cell_type": "code",
   "execution_count": 57,
   "metadata": {},
   "outputs": [],
   "source": [
    "def plot_digit(data):\n",
    "    image = data.reshape(28, 28)\n",
    "    plt.imshow(image, cmap = mpl.cm.hot,\n",
    "               interpolation=\"nearest\")\n",
    "    plt.axis(\"off\")"
   ]
  },
  {
   "cell_type": "code",
   "execution_count": 59,
   "metadata": {},
   "outputs": [
    {
     "data": {
      "image/png": "[encoded data removed]",
      "text/plain": [
       "<Figure size 432x288 with 2 Axes>"
      ]
     },
     "metadata": {
      "needs_background": "light"
     },
     "output_type": "display_data"
    }
   ],
   "source": [
    "plot_digit(forest_model.feature_importances_)\n",
    "\n",
    "cbar = plt.colorbar(ticks=[forest_model.feature_importances_.min(), forest_model.feature_importances_.max()])\n",
    "cbar.ax.set_yticklabels(['Not important', 'Very important'])\n",
    "\n",
    "#save_fig(\"mnist_feature_importance_plot\")\n",
    "plt.show()"
   ]
  },
  {
   "cell_type": "code",
   "execution_count": null,
   "metadata": {},
   "outputs": [],
   "source": []
  },
  {
   "cell_type": "code",
   "execution_count": null,
   "metadata": {},
   "outputs": [],
   "source": []
  },
  {
   "cell_type": "markdown",
   "metadata": {},
   "source": [
    "## PCA"
   ]
  },
  {
   "cell_type": "code",
   "execution_count": 60,
   "metadata": {},
   "outputs": [],
   "source": [
    "from sklearn.decomposition import PCA"
   ]
  },
  {
   "cell_type": "code",
   "execution_count": 61,
   "metadata": {},
   "outputs": [],
   "source": [
    "pca = PCA(n_components=0.95)"
   ]
  },
  {
   "cell_type": "code",
   "execution_count": 67,
   "metadata": {},
   "outputs": [],
   "source": [
    "@performance\n",
    "def reduce_dim(variance, X):\n",
    "    pca = PCA(n_components=variance)\n",
    "    return pca.fit_transform(X)"
   ]
  },
  {
   "cell_type": "code",
   "execution_count": 63,
   "metadata": {},
   "outputs": [
    {
     "name": "stdout",
     "output_type": "stream",
     "text": [
      "Time taken: 8.161291360855103 seconds\n"
     ]
    }
   ],
   "source": [
    "X_reduced = reduce_dim(0.95, X_train)"
   ]
  },
  {
   "cell_type": "code",
   "execution_count": 70,
   "metadata": {},
   "outputs": [],
   "source": [
    "random_model_pca = RandomForestClassifier()"
   ]
  },
  {
   "cell_type": "code",
   "execution_count": 71,
   "metadata": {},
   "outputs": [
    {
     "name": "stdout",
     "output_type": "stream",
     "text": [
      "Time taken: 112.0368378162384 seconds\n"
     ]
    }
   ],
   "source": [
    "train_model(random_model_pca, X_reduced, y_train)"
   ]
  },
  {
   "cell_type": "code",
   "execution_count": 73,
   "metadata": {},
   "outputs": [
    {
     "name": "stdout",
     "output_type": "stream",
     "text": [
      "Time taken: 1.4471266269683838 seconds\n"
     ]
    }
   ],
   "source": [
    "X_valid_reduced = reduce_dim(0.95, X_valid)"
   ]
  },
  {
   "cell_type": "code",
   "execution_count": 74,
   "metadata": {},
   "outputs": [
    {
     "ename": "ValueError",
     "evalue": "Number of features of the model must match the input. Model n_features is 154 and input n_features is 151 ",
     "output_type": "error",
     "traceback": [
      "\u001b[1;31m---------------------------------------------------------------------------\u001b[0m",
      "\u001b[1;31mValueError\u001b[0m                                Traceback (most recent call last)",
      "\u001b[1;32m<ipython-input-74-d28a9de2569f>\u001b[0m in \u001b[0;36m<module>\u001b[1;34m\u001b[0m\n\u001b[1;32m----> 1\u001b[1;33m \u001b[0mrandom_predictions_pca\u001b[0m \u001b[1;33m=\u001b[0m \u001b[0mpredict_model\u001b[0m\u001b[1;33m(\u001b[0m\u001b[0mrandom_model_pca\u001b[0m\u001b[1;33m,\u001b[0m \u001b[0mX_valid_reduced\u001b[0m\u001b[1;33m)\u001b[0m\u001b[1;33m\u001b[0m\u001b[1;33m\u001b[0m\u001b[0m\n\u001b[0m",
      "\u001b[1;32m<ipython-input-3-e8743ba07678>\u001b[0m in \u001b[0;36mwrapper\u001b[1;34m(*args, **kwargs)\u001b[0m\n\u001b[0;32m      2\u001b[0m     \u001b[1;32mdef\u001b[0m \u001b[0mwrapper\u001b[0m\u001b[1;33m(\u001b[0m\u001b[1;33m*\u001b[0m\u001b[0margs\u001b[0m\u001b[1;33m,\u001b[0m \u001b[1;33m**\u001b[0m\u001b[0mkwargs\u001b[0m\u001b[1;33m)\u001b[0m\u001b[1;33m:\u001b[0m\u001b[1;33m\u001b[0m\u001b[1;33m\u001b[0m\u001b[0m\n\u001b[0;32m      3\u001b[0m         \u001b[0mt1\u001b[0m \u001b[1;33m=\u001b[0m \u001b[0mtime\u001b[0m\u001b[1;33m(\u001b[0m\u001b[1;33m)\u001b[0m\u001b[1;33m\u001b[0m\u001b[1;33m\u001b[0m\u001b[0m\n\u001b[1;32m----> 4\u001b[1;33m         \u001b[0mresult\u001b[0m \u001b[1;33m=\u001b[0m \u001b[0mfunc\u001b[0m\u001b[1;33m(\u001b[0m\u001b[1;33m*\u001b[0m\u001b[0margs\u001b[0m\u001b[1;33m,\u001b[0m \u001b[1;33m**\u001b[0m\u001b[0mkwargs\u001b[0m\u001b[1;33m)\u001b[0m\u001b[1;33m\u001b[0m\u001b[1;33m\u001b[0m\u001b[0m\n\u001b[0m\u001b[0;32m      5\u001b[0m         \u001b[0mt2\u001b[0m \u001b[1;33m=\u001b[0m \u001b[0mtime\u001b[0m\u001b[1;33m(\u001b[0m\u001b[1;33m)\u001b[0m\u001b[1;33m\u001b[0m\u001b[1;33m\u001b[0m\u001b[0m\n\u001b[0;32m      6\u001b[0m         \u001b[0mprint\u001b[0m\u001b[1;33m(\u001b[0m\u001b[1;34mf\"Time taken: {t2-t1} seconds\"\u001b[0m\u001b[1;33m)\u001b[0m\u001b[1;33m\u001b[0m\u001b[1;33m\u001b[0m\u001b[0m\n",
      "\u001b[1;32m<ipython-input-15-8c9f058b56f6>\u001b[0m in \u001b[0;36mpredict_model\u001b[1;34m(model, X)\u001b[0m\n\u001b[0;32m      1\u001b[0m \u001b[1;33m@\u001b[0m\u001b[0mperformance\u001b[0m\u001b[1;33m\u001b[0m\u001b[1;33m\u001b[0m\u001b[0m\n\u001b[0;32m      2\u001b[0m \u001b[1;32mdef\u001b[0m \u001b[0mpredict_model\u001b[0m\u001b[1;33m(\u001b[0m\u001b[0mmodel\u001b[0m\u001b[1;33m,\u001b[0m \u001b[0mX\u001b[0m\u001b[1;33m)\u001b[0m\u001b[1;33m:\u001b[0m\u001b[1;33m\u001b[0m\u001b[1;33m\u001b[0m\u001b[0m\n\u001b[1;32m----> 3\u001b[1;33m     \u001b[0mpredictions\u001b[0m \u001b[1;33m=\u001b[0m \u001b[0mmodel\u001b[0m\u001b[1;33m.\u001b[0m\u001b[0mpredict\u001b[0m\u001b[1;33m(\u001b[0m\u001b[0mX\u001b[0m\u001b[1;33m)\u001b[0m\u001b[1;33m\u001b[0m\u001b[1;33m\u001b[0m\u001b[0m\n\u001b[0m\u001b[0;32m      4\u001b[0m     \u001b[1;32mreturn\u001b[0m \u001b[0mpredictions\u001b[0m\u001b[1;33m\u001b[0m\u001b[1;33m\u001b[0m\u001b[0m\n",
      "\u001b[1;32m~\\anaconda3\\lib\\site-packages\\sklearn\\ensemble\\_forest.py\u001b[0m in \u001b[0;36mpredict\u001b[1;34m(self, X)\u001b[0m\n\u001b[0;32m    627\u001b[0m             \u001b[0mThe\u001b[0m \u001b[0mpredicted\u001b[0m \u001b[0mclasses\u001b[0m\u001b[1;33m.\u001b[0m\u001b[1;33m\u001b[0m\u001b[1;33m\u001b[0m\u001b[0m\n\u001b[0;32m    628\u001b[0m         \"\"\"\n\u001b[1;32m--> 629\u001b[1;33m         \u001b[0mproba\u001b[0m \u001b[1;33m=\u001b[0m \u001b[0mself\u001b[0m\u001b[1;33m.\u001b[0m\u001b[0mpredict_proba\u001b[0m\u001b[1;33m(\u001b[0m\u001b[0mX\u001b[0m\u001b[1;33m)\u001b[0m\u001b[1;33m\u001b[0m\u001b[1;33m\u001b[0m\u001b[0m\n\u001b[0m\u001b[0;32m    630\u001b[0m \u001b[1;33m\u001b[0m\u001b[0m\n\u001b[0;32m    631\u001b[0m         \u001b[1;32mif\u001b[0m \u001b[0mself\u001b[0m\u001b[1;33m.\u001b[0m\u001b[0mn_outputs_\u001b[0m \u001b[1;33m==\u001b[0m \u001b[1;36m1\u001b[0m\u001b[1;33m:\u001b[0m\u001b[1;33m\u001b[0m\u001b[1;33m\u001b[0m\u001b[0m\n",
      "\u001b[1;32m~\\anaconda3\\lib\\site-packages\\sklearn\\ensemble\\_forest.py\u001b[0m in \u001b[0;36mpredict_proba\u001b[1;34m(self, X)\u001b[0m\n\u001b[0;32m    671\u001b[0m         \u001b[0mcheck_is_fitted\u001b[0m\u001b[1;33m(\u001b[0m\u001b[0mself\u001b[0m\u001b[1;33m)\u001b[0m\u001b[1;33m\u001b[0m\u001b[1;33m\u001b[0m\u001b[0m\n\u001b[0;32m    672\u001b[0m         \u001b[1;31m# Check data\u001b[0m\u001b[1;33m\u001b[0m\u001b[1;33m\u001b[0m\u001b[1;33m\u001b[0m\u001b[0m\n\u001b[1;32m--> 673\u001b[1;33m         \u001b[0mX\u001b[0m \u001b[1;33m=\u001b[0m \u001b[0mself\u001b[0m\u001b[1;33m.\u001b[0m\u001b[0m_validate_X_predict\u001b[0m\u001b[1;33m(\u001b[0m\u001b[0mX\u001b[0m\u001b[1;33m)\u001b[0m\u001b[1;33m\u001b[0m\u001b[1;33m\u001b[0m\u001b[0m\n\u001b[0m\u001b[0;32m    674\u001b[0m \u001b[1;33m\u001b[0m\u001b[0m\n\u001b[0;32m    675\u001b[0m         \u001b[1;31m# Assign chunk of trees to jobs\u001b[0m\u001b[1;33m\u001b[0m\u001b[1;33m\u001b[0m\u001b[1;33m\u001b[0m\u001b[0m\n",
      "\u001b[1;32m~\\anaconda3\\lib\\site-packages\\sklearn\\ensemble\\_forest.py\u001b[0m in \u001b[0;36m_validate_X_predict\u001b[1;34m(self, X)\u001b[0m\n\u001b[0;32m    419\u001b[0m         \u001b[0mcheck_is_fitted\u001b[0m\u001b[1;33m(\u001b[0m\u001b[0mself\u001b[0m\u001b[1;33m)\u001b[0m\u001b[1;33m\u001b[0m\u001b[1;33m\u001b[0m\u001b[0m\n\u001b[0;32m    420\u001b[0m \u001b[1;33m\u001b[0m\u001b[0m\n\u001b[1;32m--> 421\u001b[1;33m         \u001b[1;32mreturn\u001b[0m \u001b[0mself\u001b[0m\u001b[1;33m.\u001b[0m\u001b[0mestimators_\u001b[0m\u001b[1;33m[\u001b[0m\u001b[1;36m0\u001b[0m\u001b[1;33m]\u001b[0m\u001b[1;33m.\u001b[0m\u001b[0m_validate_X_predict\u001b[0m\u001b[1;33m(\u001b[0m\u001b[0mX\u001b[0m\u001b[1;33m,\u001b[0m \u001b[0mcheck_input\u001b[0m\u001b[1;33m=\u001b[0m\u001b[1;32mTrue\u001b[0m\u001b[1;33m)\u001b[0m\u001b[1;33m\u001b[0m\u001b[1;33m\u001b[0m\u001b[0m\n\u001b[0m\u001b[0;32m    422\u001b[0m \u001b[1;33m\u001b[0m\u001b[0m\n\u001b[0;32m    423\u001b[0m     \u001b[1;33m@\u001b[0m\u001b[0mproperty\u001b[0m\u001b[1;33m\u001b[0m\u001b[1;33m\u001b[0m\u001b[0m\n",
      "\u001b[1;32m~\\anaconda3\\lib\\site-packages\\sklearn\\tree\\_classes.py\u001b[0m in \u001b[0;36m_validate_X_predict\u001b[1;34m(self, X, check_input)\u001b[0m\n\u001b[0;32m    394\u001b[0m         \u001b[0mn_features\u001b[0m \u001b[1;33m=\u001b[0m \u001b[0mX\u001b[0m\u001b[1;33m.\u001b[0m\u001b[0mshape\u001b[0m\u001b[1;33m[\u001b[0m\u001b[1;36m1\u001b[0m\u001b[1;33m]\u001b[0m\u001b[1;33m\u001b[0m\u001b[1;33m\u001b[0m\u001b[0m\n\u001b[0;32m    395\u001b[0m         \u001b[1;32mif\u001b[0m \u001b[0mself\u001b[0m\u001b[1;33m.\u001b[0m\u001b[0mn_features_\u001b[0m \u001b[1;33m!=\u001b[0m \u001b[0mn_features\u001b[0m\u001b[1;33m:\u001b[0m\u001b[1;33m\u001b[0m\u001b[1;33m\u001b[0m\u001b[0m\n\u001b[1;32m--> 396\u001b[1;33m             raise ValueError(\"Number of features of the model must \"\n\u001b[0m\u001b[0;32m    397\u001b[0m                              \u001b[1;34m\"match the input. Model n_features is %s and \"\u001b[0m\u001b[1;33m\u001b[0m\u001b[1;33m\u001b[0m\u001b[0m\n\u001b[0;32m    398\u001b[0m                              \u001b[1;34m\"input n_features is %s \"\u001b[0m\u001b[1;33m\u001b[0m\u001b[1;33m\u001b[0m\u001b[0m\n",
      "\u001b[1;31mValueError\u001b[0m: Number of features of the model must match the input. Model n_features is 154 and input n_features is 151 "
     ]
    }
   ],
   "source": [
    "random_predictions_pca = predict_model(random_model_pca, X_valid_reduced)"
   ]
  },
  {
   "cell_type": "markdown",
   "metadata": {},
   "source": [
    "## Analyze the Best Models"
   ]
  },
  {
   "cell_type": "markdown",
   "metadata": {},
   "source": [
    "- can look into the most important features? (can visualize with heatmap)\n",
    "- confusion matrices\n",
    "- can draw decision boundaries\n",
    "- can consider doing dimensionality reduction (PCA and keep 95% variance)"
   ]
  },
  {
   "cell_type": "code",
   "execution_count": null,
   "metadata": {},
   "outputs": [],
   "source": []
  },
  {
   "cell_type": "code",
   "execution_count": null,
   "metadata": {},
   "outputs": [],
   "source": []
  },
  {
   "cell_type": "code",
   "execution_count": null,
   "metadata": {},
   "outputs": [],
   "source": []
  },
  {
   "cell_type": "code",
   "execution_count": null,
   "metadata": {},
   "outputs": [],
   "source": []
  },
  {
   "cell_type": "code",
   "execution_count": null,
   "metadata": {},
   "outputs": [],
   "source": []
  },
  {
   "cell_type": "markdown",
   "metadata": {},
   "source": [
    "## Evaluate Models on the Test Set"
   ]
  },
  {
   "cell_type": "code",
   "execution_count": null,
   "metadata": {},
   "outputs": [],
   "source": []
  },
  {
   "cell_type": "code",
   "execution_count": null,
   "metadata": {},
   "outputs": [],
   "source": []
  },
  {
   "cell_type": "code",
   "execution_count": null,
   "metadata": {},
   "outputs": [],
   "source": []
  },
  {
   "cell_type": "code",
   "execution_count": null,
   "metadata": {},
   "outputs": [],
   "source": []
  },
  {
   "cell_type": "code",
   "execution_count": null,
   "metadata": {},
   "outputs": [],
   "source": []
  },
  {
   "cell_type": "markdown",
   "metadata": {},
   "source": [
    "## Create an Ensemble"
   ]
  },
  {
   "cell_type": "markdown",
   "metadata": {},
   "source": [
    "- can look into hard voting and soft voting\n",
    "- can look into sampling with/without replacement (when applied to above classifiers)"
   ]
  },
  {
   "cell_type": "code",
   "execution_count": null,
   "metadata": {},
   "outputs": [],
   "source": []
  },
  {
   "cell_type": "code",
   "execution_count": null,
   "metadata": {},
   "outputs": [],
   "source": []
  },
  {
   "cell_type": "code",
   "execution_count": null,
   "metadata": {},
   "outputs": [],
   "source": []
  },
  {
   "cell_type": "code",
   "execution_count": null,
   "metadata": {},
   "outputs": [],
   "source": []
  },
  {
   "cell_type": "code",
   "execution_count": null,
   "metadata": {},
   "outputs": [],
   "source": []
  },
  {
   "cell_type": "code",
   "execution_count": null,
   "metadata": {},
   "outputs": [],
   "source": []
  },
  {
   "cell_type": "code",
   "execution_count": null,
   "metadata": {},
   "outputs": [],
   "source": []
  },
  {
   "cell_type": "code",
   "execution_count": null,
   "metadata": {},
   "outputs": [],
   "source": []
  },
  {
   "cell_type": "code",
   "execution_count": null,
   "metadata": {},
   "outputs": [],
   "source": []
  },
  {
   "cell_type": "code",
   "execution_count": null,
   "metadata": {},
   "outputs": [],
   "source": []
  },
  {
   "cell_type": "code",
   "execution_count": null,
   "metadata": {},
   "outputs": [],
   "source": []
  },
  {
   "cell_type": "code",
   "execution_count": null,
   "metadata": {},
   "outputs": [],
   "source": []
  },
  {
   "cell_type": "code",
   "execution_count": null,
   "metadata": {},
   "outputs": [],
   "source": []
  },
  {
   "cell_type": "code",
   "execution_count": null,
   "metadata": {},
   "outputs": [],
   "source": []
  },
  {
   "cell_type": "code",
   "execution_count": null,
   "metadata": {},
   "outputs": [],
   "source": []
  },
  {
   "cell_type": "code",
   "execution_count": null,
   "metadata": {},
   "outputs": [],
   "source": []
  },
  {
   "cell_type": "code",
   "execution_count": null,
   "metadata": {},
   "outputs": [],
   "source": []
  },
  {
   "cell_type": "code",
   "execution_count": null,
   "metadata": {},
   "outputs": [],
   "source": []
  },
  {
   "cell_type": "code",
   "execution_count": null,
   "metadata": {},
   "outputs": [],
   "source": []
  },
  {
   "cell_type": "code",
   "execution_count": null,
   "metadata": {},
   "outputs": [],
   "source": []
  }
 ],
 "metadata": {
  "kernelspec": {
   "display_name": "Python 3",
   "language": "python",
   "name": "python3"
  },
  "language_info": {
   "codemirror_mode": {
    "name": "ipython",
    "version": 3
   },
   "file_extension": ".py",
   "mimetype": "text/x-python",
   "name": "python",
   "nbconvert_exporter": "python",
   "pygments_lexer": "ipython3",
   "version": "3.8.3"
  }
 },
 "nbformat": 4,
 "nbformat_minor": 4
}
